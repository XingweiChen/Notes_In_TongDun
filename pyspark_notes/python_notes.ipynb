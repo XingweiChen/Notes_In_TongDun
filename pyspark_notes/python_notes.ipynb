{
 "cells": [
  {
   "cell_type": "markdown",
   "metadata": {},
   "source": [
    "# 时间操作"
   ]
  },
  {
   "cell_type": "code",
   "execution_count": 16,
   "metadata": {},
   "outputs": [
    {
     "name": "stdout",
     "output_type": "stream",
     "text": [
      "20150429 16:46:08\n"
     ]
    }
   ],
   "source": [
    "import time\n",
    "print( time.strftime('%Y%m%d %H:%M:%S', time.localtime(1430297168)) )"
   ]
  },
  {
   "cell_type": "code",
   "execution_count": 17,
   "metadata": {},
   "outputs": [
    {
     "name": "stdout",
     "output_type": "stream",
     "text": [
      "1544702570.51154\n"
     ]
    }
   ],
   "source": [
    "print(time.time())"
   ]
  },
  {
   "cell_type": "code",
   "execution_count": 18,
   "metadata": {},
   "outputs": [
    {
     "data": {
      "text/plain": [
       "'20181213 20:02:50'"
      ]
     },
     "execution_count": 18,
     "metadata": {},
     "output_type": "execute_result"
    }
   ],
   "source": [
    "time.strftime('%Y%m%d %H:%M:%S', time.localtime(time.time()))"
   ]
  },
  {
   "cell_type": "code",
   "execution_count": 19,
   "metadata": {},
   "outputs": [
    {
     "name": "stdout",
     "output_type": "stream",
     "text": [
      "1544702571129\n"
     ]
    }
   ],
   "source": [
    "#　获取毫秒\n",
    "print(int(time.time() * 1000))"
   ]
  },
  {
   "cell_type": "code",
   "execution_count": 30,
   "metadata": {},
   "outputs": [
    {
     "name": "stdout",
     "output_type": "stream",
     "text": [
      "20181214095231 2018-12-14 00:00:00 1544716800\n"
     ]
    }
   ],
   "source": [
    "# 时间戳转毫秒\n",
    "import datetime\n",
    "version_number = int(time.strftime('%Y%m%d%H%M%S', time.localtime(time.time())))\n",
    "t = version_number //1000000\n",
    "nanotime_of_day = datetime.datetime(t // 10000, t // 100 % 100, t % 100)\n",
    "sql_time = int(time.mktime(nanotime_of_day.timetuple()))\n",
    "print(version_number, nanotime_of_day, sql_time)"
   ]
  },
  {
   "cell_type": "code",
   "execution_count": 9,
   "metadata": {},
   "outputs": [
    {
     "name": "stdout",
     "output_type": "stream",
     "text": [
      "2018-11-28 00:00:00 1543334400\n"
     ]
    }
   ],
   "source": []
  },
  {
   "cell_type": "markdown",
   "metadata": {},
   "source": [
    "# 获取list的count"
   ]
  },
  {
   "cell_type": "code",
   "execution_count": 36,
   "metadata": {},
   "outputs": [],
   "source": [
    "from collections import Counter\n",
    "import numpy as np"
   ]
  },
  {
   "cell_type": "code",
   "execution_count": 45,
   "metadata": {},
   "outputs": [
    {
     "data": {
      "text/plain": [
       "Counter({'a': 1, 'b': 2})"
      ]
     },
     "execution_count": 45,
     "metadata": {},
     "output_type": "execute_result"
    }
   ],
   "source": [
    "a = np.array([[1, 'a'], [2, 'b'], [3, 'b']])\n",
    "A = Counter(a[:,1])\n",
    "A"
   ]
  },
  {
   "cell_type": "markdown",
   "metadata": {},
   "source": [
    "# 获取字典中value n个最大value对应的Key"
   ]
  },
  {
   "cell_type": "code",
   "execution_count": 47,
   "metadata": {},
   "outputs": [
    {
     "name": "stdout",
     "output_type": "stream",
     "text": [
      "Counter({'b': 2, 'a': 1})\n",
      "['b']\n"
     ]
    }
   ],
   "source": [
    "import heapq\n",
    "print(A)\n",
    "print( heapq.nlargest(1, A, key=A.get) )"
   ]
  },
  {
   "cell_type": "code",
   "execution_count": 68,
   "metadata": {},
   "outputs": [
    {
     "data": {
      "text/plain": [
       "[[3, 'b'], [2, 'b']]"
      ]
     },
     "execution_count": 68,
     "metadata": {},
     "output_type": "execute_result"
    }
   ],
   "source": [
    "# get max 2 from list\n",
    "a = [1, 'a'], [2, 'b'], [3, 'b']\n",
    "heapq.nlargest(2, a, key=lambda x: x[0])"
   ]
  },
  {
   "cell_type": "code",
   "execution_count": 69,
   "metadata": {},
   "outputs": [
    {
     "data": {
      "text/plain": [
       "[array(['3', 'b'], dtype='<U21'), array(['2', 'b'], dtype='<U21')]"
      ]
     },
     "execution_count": 69,
     "metadata": {},
     "output_type": "execute_result"
    }
   ],
   "source": [
    "a = np.array([[1, 'a'], [2, 'b'], [3, 'b']])\n",
    "heapq.nlargest(2, a, key=lambda x: x[0])"
   ]
  },
  {
   "cell_type": "code",
   "execution_count": 18,
   "metadata": {},
   "outputs": [
    {
     "name": "stdout",
     "output_type": "stream",
     "text": [
      "2018-11-28 00:00:00 1543334400\n",
      "2018-11-28\n",
      "2018-11-27\n",
      "2018-11-26\n",
      "2018-11-25\n",
      "2018-11-24\n",
      "2018-11-23\n",
      "2018-11-22\n"
     ]
    }
   ],
   "source": [
    "import datetime, time\n",
    "nanotime_of_day = datetime.datetime(2018, 11, 28)\n",
    "sql_time = int(time.mktime(nanotime_of_day.timetuple()))\n",
    "print(nanotime_of_day, sql_time)\n",
    "for i in range(7):\n",
    "    print(time.strftime('%Y-%m-%d', time.localtime(sql_time - 86400 * i)))"
   ]
  },
  {
   "cell_type": "markdown",
   "metadata": {},
   "source": [
    "# pickle操作"
   ]
  },
  {
   "cell_type": "code",
   "execution_count": 8,
   "metadata": {},
   "outputs": [
    {
     "name": "stdout",
     "output_type": "stream",
     "text": [
      "['1'] ['1']\n"
     ]
    }
   ],
   "source": [
    "import pickle \n",
    "a = ['1']\n",
    "pickle.dump(a, open('temp', 'wb'))\n",
    "b = pickle.load(open('temp', 'rb'))\n",
    "print(a, b)"
   ]
  },
  {
   "cell_type": "markdown",
   "metadata": {},
   "source": [
    "# list 删除元素"
   ]
  },
  {
   "cell_type": "code",
   "execution_count": 17,
   "metadata": {},
   "outputs": [],
   "source": [
    "a = ['1', '2']\n",
    "a.remove('1')"
   ]
  },
  {
   "cell_type": "markdown",
   "metadata": {},
   "source": [
    "# python 二进制操作"
   ]
  },
  {
   "cell_type": "code",
   "execution_count": 8,
   "metadata": {},
   "outputs": [],
   "source": [
    "x = 0B0001"
   ]
  },
  {
   "cell_type": "code",
   "execution_count": 12,
   "metadata": {},
   "outputs": [
    {
     "name": "stdout",
     "output_type": "stream",
     "text": [
      "1\n",
      "4\n",
      "5\n",
      "0\n",
      "5\n",
      "5\n"
     ]
    }
   ],
   "source": [
    "print(x)\n",
    "print(x << 2)\n",
    "print(x << 2 | x) # or 100 | 001 = 101\n",
    "print(x << 2 & x) # and 100 & 001 = 000\n",
    "print(x << 2 ^ x) # xor 100 xor 001 = 101\n",
    "print(int('101', 2)) # int(string, base)"
   ]
  },
  {
   "cell_type": "code",
   "execution_count": 16,
   "metadata": {},
   "outputs": [
    {
     "data": {
      "text/plain": [
       "3"
      ]
     },
     "execution_count": 16,
     "metadata": {},
     "output_type": "execute_result"
    }
   ],
   "source": [
    "(5).bit_length() # 101"
   ]
  },
  {
   "cell_type": "markdown",
   "metadata": {},
   "source": [
    "# 去除小数部分"
   ]
  },
  {
   "cell_type": "code",
   "execution_count": 18,
   "metadata": {},
   "outputs": [
    {
     "data": {
      "text/plain": [
       "2"
      ]
     },
     "execution_count": 18,
     "metadata": {},
     "output_type": "execute_result"
    }
   ],
   "source": [
    "import math\n",
    "math.trunc(2.567)"
   ]
  },
  {
   "cell_type": "markdown",
   "metadata": {},
   "source": [
    "# 格式化输出"
   ]
  },
  {
   "cell_type": "code",
   "execution_count": 21,
   "metadata": {},
   "outputs": [
    {
     "name": "stdout",
     "output_type": "stream",
     "text": [
      "result: 1.234000\n",
      "result: 1.234000\n",
      "result: 1234\n",
      "result: 1234\n"
     ]
    }
   ],
   "source": [
    "print('result: %.6f' % 1.234)\n",
    "print('result: {0:.6f}'.format(1.234) )"
   ]
  },
  {
   "cell_type": "markdown",
   "metadata": {},
   "source": [
    "# 生成随机数"
   ]
  },
  {
   "cell_type": "code",
   "execution_count": 23,
   "metadata": {},
   "outputs": [],
   "source": [
    "import random"
   ]
  },
  {
   "cell_type": "code",
   "execution_count": 24,
   "metadata": {},
   "outputs": [
    {
     "data": {
      "text/plain": [
       "0.5938375364351739"
      ]
     },
     "execution_count": 24,
     "metadata": {},
     "output_type": "execute_result"
    }
   ],
   "source": [
    "random.random() # 生成[0，1]之间的随机数"
   ]
  },
  {
   "cell_type": "code",
   "execution_count": 25,
   "metadata": {},
   "outputs": [
    {
     "data": {
      "text/plain": [
       "3"
      ]
     },
     "execution_count": 25,
     "metadata": {},
     "output_type": "execute_result"
    }
   ],
   "source": [
    "random.randint(1, 10) # 生成1，10之间的整数"
   ]
  },
  {
   "cell_type": "markdown",
   "metadata": {},
   "source": [
    "# 从序列中随机挑选一项"
   ]
  },
  {
   "cell_type": "code",
   "execution_count": 28,
   "metadata": {},
   "outputs": [
    {
     "data": {
      "text/plain": [
       "'C'"
      ]
     },
     "execution_count": 28,
     "metadata": {},
     "output_type": "execute_result"
    }
   ],
   "source": [
    "random.choice(['A', 'B', 'C'])"
   ]
  },
  {
   "cell_type": "markdown",
   "metadata": {},
   "source": [
    "# 设置全局精度"
   ]
  },
  {
   "cell_type": "code",
   "execution_count": 1,
   "metadata": {},
   "outputs": [
    {
     "name": "stdout",
     "output_type": "stream",
     "text": [
      "0.1428571428571428571428571429\n",
      "0.1429\n"
     ]
    }
   ],
   "source": [
    "import decimal\n",
    "print( decimal.Decimal(1) / decimal.Decimal(7) )\n",
    "decimal.getcontext().prec = 4\n",
    "print( decimal.Decimal(1) / decimal.Decimal(7) )"
   ]
  },
  {
   "cell_type": "code",
   "execution_count": 3,
   "metadata": {},
   "outputs": [
    {
     "name": "stdout",
     "output_type": "stream",
     "text": [
      "0.14\n",
      "0.1429\n"
     ]
    }
   ],
   "source": [
    "with decimal.localcontext() as ctx:\n",
    "    ctx.prec = 2\n",
    "    print( decimal.Decimal(1) / decimal.Decimal(7) )\n",
    "print( decimal.Decimal(1) / decimal.Decimal(7) )"
   ]
  },
  {
   "cell_type": "markdown",
   "metadata": {},
   "source": [
    "# 分数"
   ]
  },
  {
   "cell_type": "code",
   "execution_count": 1,
   "metadata": {},
   "outputs": [],
   "source": [
    "from fractions import Fraction"
   ]
  },
  {
   "cell_type": "code",
   "execution_count": 2,
   "metadata": {},
   "outputs": [],
   "source": [
    "a = Fraction(1,3)"
   ]
  },
  {
   "cell_type": "code",
   "execution_count": 6,
   "metadata": {},
   "outputs": [
    {
     "name": "stdout",
     "output_type": "stream",
     "text": [
      "1 3 1/3 0.3333333333333333\n"
     ]
    }
   ],
   "source": [
    "print( a.numerator, a.denominator, a.real * 1, a.real * 1.0 )"
   ]
  },
  {
   "cell_type": "markdown",
   "metadata": {},
   "source": [
    "# set操作"
   ]
  },
  {
   "cell_type": "code",
   "execution_count": 21,
   "metadata": {},
   "outputs": [],
   "source": [
    "a = set(['a', 'b', 'c', 'd'])\n",
    "b = set(['c', 'd', 'e'])"
   ]
  },
  {
   "cell_type": "code",
   "execution_count": 31,
   "metadata": {},
   "outputs": [
    {
     "name": "stdout",
     "output_type": "stream",
     "text": [
      "True {'c', 'e', 'd'}\n"
     ]
    }
   ],
   "source": [
    "print( a.intersection(b) == a & b, a & b)"
   ]
  },
  {
   "cell_type": "code",
   "execution_count": 32,
   "metadata": {},
   "outputs": [
    {
     "name": "stdout",
     "output_type": "stream",
     "text": [
      "True {'c', 'a', 'e', 'd'}\n"
     ]
    }
   ],
   "source": [
    "print( a.union(b) == a | b, a | b)"
   ]
  },
  {
   "cell_type": "code",
   "execution_count": 34,
   "metadata": {},
   "outputs": [
    {
     "data": {
      "text/plain": [
       "{'a', 'c', 'd', 'e'}"
      ]
     },
     "execution_count": 34,
     "metadata": {},
     "output_type": "execute_result"
    }
   ],
   "source": [
    "a.update(b) # 在a中添加b\n",
    "a"
   ]
  },
  {
   "cell_type": "code",
   "execution_count": 26,
   "metadata": {},
   "outputs": [
    {
     "data": {
      "text/plain": [
       "{'a', 'c', 'd', 'e'}"
      ]
     },
     "execution_count": 26,
     "metadata": {},
     "output_type": "execute_result"
    }
   ],
   "source": [
    "a.remove('b') # 从a中移除‘b'\n",
    "a"
   ]
  },
  {
   "cell_type": "code",
   "execution_count": 36,
   "metadata": {},
   "outputs": [
    {
     "name": "stdout",
     "output_type": "stream",
     "text": [
      "{'c', 'a', 'b'} {'aa', 'bb'}\n"
     ]
    }
   ],
   "source": [
    "print( set('abc'), set(['aa', 'bb']) )"
   ]
  },
  {
   "cell_type": "code",
   "execution_count": 41,
   "metadata": {},
   "outputs": [
    {
     "name": "stdout",
     "output_type": "stream",
     "text": [
      "False\n",
      "False\n",
      "True\n"
     ]
    }
   ],
   "source": [
    "print( a.issubset(b) )\n",
    "print( a.issubset({'a', 'c'}) )\n",
    "print( {'a', 'c'}.issubset(a) )"
   ]
  },
  {
   "cell_type": "markdown",
   "metadata": {},
   "source": [
    "# string操作"
   ]
  },
  {
   "cell_type": "code",
   "execution_count": 44,
   "metadata": {},
   "outputs": [
    {
     "name": "stdout",
     "output_type": "stream",
     "text": [
      "0 -1\n"
     ]
    }
   ],
   "source": [
    "print( 'abcab'.find('ab'), # 找到第一个‘ab’\n",
    "        'abcab'.find('dd') )"
   ]
  },
  {
   "cell_type": "code",
   "execution_count": 47,
   "metadata": {},
   "outputs": [
    {
     "name": "stdout",
     "output_type": "stream",
     "text": [
      "faab\n",
      "faf\n"
     ]
    }
   ],
   "source": [
    "print('abaab'.replace('ab','f', 1))\n",
    "print('abaab'.replace('ab','f'))"
   ]
  },
  {
   "cell_type": "code",
   "execution_count": 50,
   "metadata": {},
   "outputs": [
    {
     "name": "stdout",
     "output_type": "stream",
     "text": [
      "True\n"
     ]
    }
   ],
   "source": [
    "print('abaab'.endswith('ab'))"
   ]
  },
  {
   "cell_type": "code",
   "execution_count": 58,
   "metadata": {},
   "outputs": [
    {
     "name": "stdout",
     "output_type": "stream",
     "text": [
      "True\n",
      "\\t\n"
     ]
    }
   ],
   "source": [
    "print( 'D:\\\\a\\\\b\\\\c' == r'D:\\a\\b\\c' ) # r 可以抑制转义字符\n",
    "print(r'\\t')"
   ]
  },
  {
   "cell_type": "markdown",
   "metadata": {},
   "source": [
    "# 字典"
   ]
  },
  {
   "cell_type": "code",
   "execution_count": 60,
   "metadata": {},
   "outputs": [
    {
     "data": {
      "text/plain": [
       "{1: 'a', 2: 'a', 3: 'a', 4: 'a', 5: 'a'}"
      ]
     },
     "execution_count": 60,
     "metadata": {},
     "output_type": "execute_result"
    }
   ],
   "source": [
    "dict.fromkeys([1,2,3,4,5], 'a')"
   ]
  },
  {
   "cell_type": "code",
   "execution_count": 61,
   "metadata": {},
   "outputs": [],
   "source": [
    "# pickle"
   ]
  },
  {
   "cell_type": "code",
   "execution_count": 63,
   "metadata": {},
   "outputs": [
    {
     "data": {
      "text/plain": [
       "{1: 'a', 2: 'b'}"
      ]
     },
     "execution_count": 63,
     "metadata": {},
     "output_type": "execute_result"
    }
   ],
   "source": [
    "import pickle\n",
    "D = {1:'a', 2: 'b'}\n",
    "pickle.dump(D, open('a.pkl', 'wb'))\n",
    "pickle.load(open('a.pkl','rb'))"
   ]
  },
  {
   "cell_type": "code",
   "execution_count": 64,
   "metadata": {},
   "outputs": [],
   "source": [
    "# 迭代器"
   ]
  },
  {
   "cell_type": "code",
   "execution_count": 70,
   "metadata": {},
   "outputs": [
    {
     "name": "stdout",
     "output_type": "stream",
     "text": [
      "1 2 3\n"
     ]
    }
   ],
   "source": [
    "L = [1,2,3]\n",
    "I = iter(L)\n",
    "print(next(I), next(I), next(I))"
   ]
  },
  {
   "cell_type": "code",
   "execution_count": 75,
   "metadata": {},
   "outputs": [],
   "source": [
    "A,B = zip([1,2], [3,4])"
   ]
  },
  {
   "cell_type": "code",
   "execution_count": 77,
   "metadata": {},
   "outputs": [
    {
     "data": {
      "text/plain": [
       "((1, 3), (2, 4))"
      ]
     },
     "execution_count": 77,
     "metadata": {},
     "output_type": "execute_result"
    }
   ],
   "source": [
    "A, B"
   ]
  },
  {
   "cell_type": "markdown",
   "metadata": {},
   "source": [
    "# 模块导入搜索路径\n",
    "* 当前主程序目录\n",
    "* PATHONPATH目录\n",
    "* 标准链接库目录\n",
    "* 任何.pth文件的内容"
   ]
  },
  {
   "cell_type": "code",
   "execution_count": 80,
   "metadata": {},
   "outputs": [],
   "source": [
    "import sys"
   ]
  },
  {
   "cell_type": "code",
   "execution_count": 81,
   "metadata": {},
   "outputs": [
    {
     "data": {
      "text/plain": [
       "['',\n",
       " '/Users/brook/local/pyspark/python',\n",
       " '/Users/brook/local/pyspark/python/lib/py4j-0.10.4-src.zip',\n",
       " '/Users/brook/Documents/Notes_In_TongDun/pyspark_notes',\n",
       " '/Users/brook/anaconda3/lib/python36.zip',\n",
       " '/Users/brook/anaconda3/lib/python3.6',\n",
       " '/Users/brook/anaconda3/lib/python3.6/lib-dynload',\n",
       " '/Users/brook/anaconda3/lib/python3.6/site-packages',\n",
       " '/Users/brook/anaconda3/lib/python3.6/site-packages/aeosa',\n",
       " '/Users/brook/anaconda3/lib/python3.6/site-packages/IPython/extensions',\n",
       " '/Users/brook/.ipython']"
      ]
     },
     "execution_count": 81,
     "metadata": {},
     "output_type": "execute_result"
    }
   ],
   "source": [
    "sys.path # 导入的搜索路径"
   ]
  },
  {
   "cell_type": "markdown",
   "metadata": {},
   "source": [
    "# shelve存储"
   ]
  },
  {
   "cell_type": "code",
   "execution_count": 82,
   "metadata": {},
   "outputs": [],
   "source": [
    "import shelve"
   ]
  },
  {
   "cell_type": "code",
   "execution_count": 83,
   "metadata": {},
   "outputs": [],
   "source": [
    "d1 = {1:'a'}\n",
    "d2 = {2:'b'}"
   ]
  },
  {
   "cell_type": "code",
   "execution_count": 84,
   "metadata": {},
   "outputs": [],
   "source": [
    "db = shelve.open('tmpdb')"
   ]
  },
  {
   "cell_type": "code",
   "execution_count": 85,
   "metadata": {},
   "outputs": [],
   "source": [
    "db['d1'] = d1\n",
    "db['d2'] = d2"
   ]
  },
  {
   "cell_type": "code",
   "execution_count": 86,
   "metadata": {},
   "outputs": [],
   "source": [
    "db.close()"
   ]
  },
  {
   "cell_type": "code",
   "execution_count": 88,
   "metadata": {},
   "outputs": [],
   "source": [
    "db = shelve.open('tmpdb')"
   ]
  },
  {
   "cell_type": "code",
   "execution_count": 91,
   "metadata": {},
   "outputs": [
    {
     "name": "stdout",
     "output_type": "stream",
     "text": [
      "{1: 'a'} {2: 'b'}\n"
     ]
    }
   ],
   "source": [
    "print(db['d1'], db['d2'])"
   ]
  },
  {
   "cell_type": "markdown",
   "metadata": {},
   "source": [
    "# python 随机生成中文字符"
   ]
  },
  {
   "cell_type": "code",
   "execution_count": 7,
   "metadata": {},
   "outputs": [],
   "source": [
    "import random\n",
    "# 20000多个中文字符\n",
    "def unicode(size):\n",
    "    result = ''\n",
    "    for _ in range(size):\n",
    "        val = random.randint(0x4e00, 0x9fbf)\n",
    "        result += chr(val)\n",
    "    return result\n",
    "\n",
    "# 6000多个中文字符\n",
    "def gbk2312(size):\n",
    "    result = ''\n",
    "    for _ in range(size):\n",
    "        head = random.randint(0xb0, 0xf7)\n",
    "        body = random.randint(0xa1, 0xfe)\n",
    "        val = f'{head:x}{body:x}'\n",
    "        result += bytes.fromhex(val).decode('gb2312') # 以gb2312编码对字符串str进行解码\n",
    "    return result"
   ]
  },
  {
   "cell_type": "code",
   "execution_count": 17,
   "metadata": {},
   "outputs": [
    {
     "name": "stdout",
     "output_type": "stream",
     "text": [
      "unicode: 軵甚忙纑胼\n",
      "unicode: 鯻朏漞銊兽\n",
      "unicode: 蹆锢咴炾忼\n",
      "unicode: 哊盤姮哒蒾\n",
      "unicode: 駎掱孲剒缟\n",
      "gbk2312: 聂监煌雾揆\n",
      "gbk2312: 茱斛鼎鼙漪\n",
      "gbk2312: 轿睛伽笳畲\n",
      "gbk2312: 脒抵堪荜或\n",
      "gbk2312: 锹道峦锱甥\n"
     ]
    }
   ],
   "source": [
    "for _ in range(5):\n",
    "    print( 'unicode: {}'.format(unicode(5)) )\n",
    "for _ in range(5):\n",
    "    print( 'gbk2312: {}'.format(gbk2312(5)) )"
   ]
  },
  {
   "cell_type": "markdown",
   "metadata": {},
   "source": [
    "# 字符串转图片"
   ]
  },
  {
   "cell_type": "code",
   "execution_count": 31,
   "metadata": {},
   "outputs": [],
   "source": [
    "import pygame\n",
    "pygame.init()\n",
    "text = gbk2312(5)\n",
    "# 设置字体和字号, 这里要注意mac下很多字体是不支持中文显示的\n",
    "font = pygame.font.Font('/Library/Fonts/Arial Unicode.ttf', 32, bold=False, italic=False)\n",
    "# 设置背景颜色和字体样式, 前面的颜色是字体颜色\n",
    "ftext = font.render(text, True, (0, 0, 0),(255, 255, 255))\n",
    "pygame.image.save(ftext, text + '.png')"
   ]
  },
  {
   "cell_type": "code",
   "execution_count": 32,
   "metadata": {},
   "outputs": [
    {
     "data": {
      "image/png": "[encoded data removed]",
      "text/plain": [
       "<Figure size 432x288 with 1 Axes>"
      ]
     },
     "metadata": {},
     "output_type": "display_data"
    }
   ],
   "source": [
    "import matplotlib.pyplot as plt\n",
    "import os\n",
    "img = plt.imread(text + '.png')\n",
    "imgplot = plt.imshow(img)\n",
    "plt.show()\n",
    "os.remove(text + '.png')"
   ]
  },
  {
   "cell_type": "code",
   "execution_count": null,
   "metadata": {},
   "outputs": [],
   "source": []
  }
 ],
 "metadata": {
  "kernelspec": {
   "display_name": "Python 3",
   "language": "python",
   "name": "python3"
  },
  "language_info": {
   "codemirror_mode": {
    "name": "ipython",
    "version": 3
   },
   "file_extension": ".py",
   "mimetype": "text/x-python",
   "name": "python",
   "nbconvert_exporter": "python",
   "pygments_lexer": "ipython3",
   "version": "3.6.5"
  }
 },
 "nbformat": 4,
 "nbformat_minor": 2
}
