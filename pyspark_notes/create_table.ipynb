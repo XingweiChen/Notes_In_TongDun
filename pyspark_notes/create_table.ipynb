{
 "cells": [
  {
   "cell_type": "code",
   "execution_count": 2,
   "metadata": {
    "collapsed": false
   },
   "outputs": [],
   "source": [
    "from pyspark.sql import SparkSession"
   ]
  },
  {
   "cell_type": "code",
   "execution_count": 6,
   "metadata": {
    "collapsed": true
   },
   "outputs": [],
   "source": [
    "spark = SparkSession.builder.appName(\"python spark create table example\").enableHiveSupport().getOrCreate()"
   ]
  },
  {
   "cell_type": "code",
   "execution_count": 7,
   "metadata": {
    "collapsed": true
   },
   "outputs": [],
   "source": [
    "def create_table(df, tmp_table_name):\n",
    "    df.registerTempTable(tmp_table_name)\n",
    "    spark.sql('create table if not exists ' + tmp_table_name + '  as select * from ' +\n",
    "                     tmp_table_name)"
   ]
  },
  {
   "cell_type": "code",
   "execution_count": 8,
   "metadata": {
    "collapsed": false
   },
   "outputs": [],
   "source": [
    "sampleData = [(\"bob\",\"Developer\",125000),(\"mark\",\"Developer\",108000),(\"carl\",\"Tester\",70000),(\"peter\",\"Developer\",185000),(\"jon\",\"Tester\",65000),(\"roman\",\"Tester\",82000),(\"simon\",\"Developer\",98000),(\"eric\",\"Developer\",144000),(\"carlos\",\"Tester\",75000),(\"henry\",\"Developer\",110000)]\n",
    "df = spark.createDataFrame(sampleData, schema = [\"name\", \"job\", \"salary\"])"
   ]
  },
  {
   "cell_type": "code",
   "execution_count": null,
   "metadata": {
    "collapsed": true
   },
   "outputs": [],
   "source": [
    "create_table(df, tmp_table_name)"
   ]
  }
 ],
 "metadata": {
  "kernelspec": {
   "display_name": "Python 2",
   "language": "python",
   "name": "python2"
  },
  "language_info": {
   "codemirror_mode": {
    "name": "ipython",
    "version": 2
   },
   "file_extension": ".py",
   "mimetype": "text/x-python",
   "name": "python",
   "nbconvert_exporter": "python",
   "pygments_lexer": "ipython2",
   "version": "2.7.13"
  }
 },
 "nbformat": 4,
 "nbformat_minor": 2
}
