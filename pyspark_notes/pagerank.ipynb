{
 "cells": [
  {
   "cell_type": "code",
   "execution_count": 135,
   "metadata": {
    "collapsed": true
   },
   "outputs": [],
   "source": [
    "from pyspark.sql import SparkSession\n",
    "import numpy as np\n",
    "import math"
   ]
  },
  {
   "cell_type": "code",
   "execution_count": 168,
   "metadata": {
    "collapsed": true
   },
   "outputs": [],
   "source": [
    "spark = SparkSession.builder.appName('test').getOrCreate()"
   ]
  },
  {
   "cell_type": "code",
   "execution_count": 169,
   "metadata": {
    "collapsed": true
   },
   "outputs": [],
   "source": [
    "# df = spark.createDataFrame(data = [(['A', 1], [0.6, 0.0, 0.4]), \n",
    "#                                    (['B', 1], [0.5, 0.2, 0.3]), \n",
    "#                                    (['C', 1], [0.1, 0.1, 0.8])])\n",
    "# df.show()\n",
    "# df.printSchema()"
   ]
  },
  {
   "cell_type": "code",
   "execution_count": 170,
   "metadata": {
    "collapsed": true
   },
   "outputs": [],
   "source": [
    "df = spark.createDataFrame(data = [('A', ['A', 'B', 'C']), \n",
    "                                   ('B', ['B', 'C']), \n",
    "                                   ('C', ['C']),\n",
    "                                   ('A', ['A', 'C']) ])"
   ]
  },
  {
   "cell_type": "code",
   "execution_count": 171,
   "metadata": {
    "collapsed": false
   },
   "outputs": [
    {
     "data": {
      "text/plain": [
       "[u'A', u'C', u'B']"
      ]
     },
     "execution_count": 171,
     "metadata": {},
     "output_type": "execute_result"
    }
   ],
   "source": [
    "tmp = [x[0] for x in df.rdd.map(lambda x: (x[0], '')).reduceByKey(lambda x1, x2: x1).collect()]\n",
    "bc_dict = spark.sparkContext.broadcast(dict(zip(tmp, range(len(tmp)))))\n",
    "bc_length = spark.sparkContext.broadcast(len(tmp))\n",
    "tmp"
   ]
  },
  {
   "cell_type": "code",
   "execution_count": 172,
   "metadata": {
    "collapsed": false
   },
   "outputs": [],
   "source": [
    "# def func(row):\n",
    "#     result = []\n",
    "#     for item in row._2:\n",
    "#         if item == row._1: continue\n",
    "#         result.append([ (row._1, item), 1.0 ])\n",
    "#         result.append([ (row._1, ''), 1.0])\n",
    "#     if len(result) == 0:\n",
    "#         result.append([ (row._1, ''), 1.0])\n",
    "#     return result\n",
    "\n",
    "# def func2(row):\n",
    "#     result = [float(0) for _ in range(bc_length.value)]\n",
    "#     cnt = 0\n",
    "#     for item in row[1]:\n",
    "#         if not item[0][1]:\n",
    "#             cnt = item[1]\n",
    "#             continue\n",
    "#         result[bc_dict.value[item[0][1]]] = float(round(item[1] / cnt, 6))\n",
    "#     if np.sum(result) != 1.0:\n",
    "#         result[bc_dict.value[row[0]]] = float(1.0 - np.sum(result))\n",
    "#     return [([row[0], '1'], result)]\n",
    "# result = df.rdd.flatMap(func).reduceByKey(lambda x1, x2: x1+x2).sortByKey().groupBy(lambda x: x[0][0]).flatMap(\n",
    "#     func2).collect()\n",
    "# result"
   ]
  },
  {
   "cell_type": "code",
   "execution_count": 176,
   "metadata": {
    "collapsed": false
   },
   "outputs": [
    {
     "data": {
      "text/plain": [
       "[([u'A', '1'], [0.0, 0.6666666666666666, 0.3333333333333333]),\n",
       " ([u'C', '1'], [0.0, 1.0, 0.0]),\n",
       " ([u'B', '1'], [0.0, 1.0, 0.0])]"
      ]
     },
     "execution_count": 176,
     "metadata": {},
     "output_type": "execute_result"
    }
   ],
   "source": [
    "def func(row):\n",
    "    result = []\n",
    "    for item in row._2:\n",
    "        if item == row._1: continue\n",
    "        result.append([ (row._1, item), 1 ])\n",
    "    if len(result) == 0:\n",
    "        result.append([ (row._1, row._1), 1])\n",
    "    return result\n",
    "\n",
    "def func2(row):\n",
    "    result = [float(0) for _ in range(bc_length.value)]\n",
    "    cnt = 0\n",
    "    tmp = []\n",
    "    for item in row[1]:\n",
    "        cnt += item[1]\n",
    "    for item in row[1]:\n",
    "        result[bc_dict.value[item[0][1]]] = float(item[1]) / cnt\n",
    "    return [([row[0], '1'], result)]\n",
    "result = df.rdd.flatMap(func).reduceByKey(lambda x1, x2: x1+x2).groupBy(lambda x: x[0][0]).flatMap(\n",
    "    func2)\n",
    "result.collect()\n",
    "# [((u'B', u'C'), 1), ((u'C', u'C'), 1), ((u'A', u'B'), 1), ((u'A', u'C'), 2)]"
   ]
  },
  {
   "cell_type": "code",
   "execution_count": 177,
   "metadata": {
    "collapsed": true
   },
   "outputs": [],
   "source": [
    "newdf = spark.createDataFrame(result)"
   ]
  },
  {
   "cell_type": "code",
   "execution_count": 178,
   "metadata": {
    "collapsed": false
   },
   "outputs": [
    {
     "name": "stdout",
     "output_type": "stream",
     "text": [
      "root\n",
      " |-- _1: array (nullable = true)\n",
      " |    |-- element: string (containsNull = true)\n",
      " |-- _2: array (nullable = true)\n",
      " |    |-- element: double (containsNull = true)\n",
      "\n"
     ]
    }
   ],
   "source": [
    "newdf.printSchema()"
   ]
  },
  {
   "cell_type": "code",
   "execution_count": 179,
   "metadata": {
    "collapsed": false
   },
   "outputs": [
    {
     "name": "stdout",
     "output_type": "stream",
     "text": [
      "+------+--------------------+\n",
      "|    _1|                  _2|\n",
      "+------+--------------------+\n",
      "|[A, 1]|[0.0, 0.666666666...|\n",
      "|[C, 1]|     [0.0, 1.0, 0.0]|\n",
      "|[B, 1]|     [0.0, 1.0, 0.0]|\n",
      "+------+--------------------+\n",
      "\n"
     ]
    }
   ],
   "source": [
    "newdf.show()\n",
    "df = newdf"
   ]
  },
  {
   "cell_type": "code",
   "execution_count": 180,
   "metadata": {
    "collapsed": false
   },
   "outputs": [
    {
     "name": "stdout",
     "output_type": "stream",
     "text": [
      "1.74658396751\n",
      "0.340589294867\n",
      "2.77555756156e-17\n",
      "+-----------+--------------------+\n",
      "|         _1|                  _2|\n",
      "+-----------+--------------------+\n",
      "|  [A, 0.15]|[0.0, 0.666666666...|\n",
      "|[C, 2.6575]|     [0.0, 1.0, 0.0]|\n",
      "|[B, 0.1925]|     [0.0, 1.0, 0.0]|\n",
      "+-----------+--------------------+\n",
      "\n",
      "+-----------+--------------------+\n",
      "|         _1|                  _2|\n",
      "+-----------+--------------------+\n",
      "|  [A, 0.15]|[0.0, 0.666666666...|\n",
      "|[C, 2.6575]|     [0.0, 1.0, 0.0]|\n",
      "|[B, 0.1925]|     [0.0, 1.0, 0.0]|\n",
      "+-----------+--------------------+\n",
      "\n"
     ]
    }
   ],
   "source": [
    "pos_list = spark.sparkContext.broadcast(dict([(v, k) for k, v in bc_dict.value.items()]))\n",
    "bc_beta = spark.sparkContext.broadcast(0.85)\n",
    "# print(pos_list.value)\n",
    "def tran(row):\n",
    "    print(row)\n",
    "    return [ [ pos_list.value[i], \n",
    "               [ bc_beta.value * (float(row._1[1]) * row._2[i]), row._2 if pos_list.value[i] == row._1[0] else [] ] ] \n",
    "             for i in range(len(row._2)) ] + [ \n",
    "        [val, [(1-bc_beta.value) * float(row._1[1]) / len(pos_list.value) , []]] for val in pos_list.value.values() ]\n",
    "error = 100\n",
    "newdf = df\n",
    "while(error > 1e-1):\n",
    "    df = newdf\n",
    "    new_result = df.rdd.flatMap(tran).reduceByKey(lambda x, y: [x[0] + y[0], x[1] + y[1]])\n",
    "    old_result = df.rdd.map(lambda x: [x[0][0], [float(x[0][1]), x[1]] ])\n",
    "    result = new_result.union(old_result)\n",
    "    diff = result.map(lambda x: (x[0], x[1][0])).reduceByKey(lambda x1, x2: (x1 - x2) ** 2)\n",
    "    error = math.sqrt( diff.map(lambda x: ('', x[1])).reduceByKey(lambda x1, x2: x1 + x2).collect()[0][1] )\n",
    "    print(error)\n",
    "    newdf = spark.createDataFrame(new_result.map(lambda x: [ [x[0], round(x[1][0], 6)], x[1][1] ]))\n",
    "\n",
    "newdf.show()\n",
    "df.show()"
   ]
  },
  {
   "cell_type": "code",
   "execution_count": 125,
   "metadata": {
    "collapsed": false
   },
   "outputs": [
    {
     "name": "stdout",
     "output_type": "stream",
     "text": [
      "{0: u'A', 1: u'C', 2: u'B'}\n"
     ]
    }
   ],
   "source": [
    "print(pos_list.value)"
   ]
  },
  {
   "cell_type": "code",
   "execution_count": 6,
   "metadata": {
    "collapsed": false
   },
   "outputs": [
    {
     "ename": "SyntaxError",
     "evalue": "invalid syntax (<ipython-input-6-aa39e389ce5c>, line 10)",
     "output_type": "error",
     "traceback": [
      "\u001b[0;36m  File \u001b[0;32m\"<ipython-input-6-aa39e389ce5c>\"\u001b[0;36m, line \u001b[0;32m10\u001b[0m\n\u001b[0;31m    G.add_edge(['a','b',weight=0.6])\u001b[0m\n\u001b[0m                              ^\u001b[0m\n\u001b[0;31mSyntaxError\u001b[0m\u001b[0;31m:\u001b[0m invalid syntax\n"
     ]
    }
   ],
   "source": [
    "import networkx as nx\n",
    "import matplotlib.pyplot as plt\n",
    "G = nx.Graph() # 定义一个空图\n",
    "node_list = ['sdaf', 'sahfi ajoij', 'an aoinion']\n",
    "# edge_list = [('sdaf','sahfi ajoij', 0.1),('sahfi ajoij','an aoinion', 0.7)]\n",
    "G.add_nodes_from(node_list)\n",
    "# G.add_edges_from(edge_list)\n",
    "pos = nx.spring_layout(G) \n",
    "\n",
    "G.add_edge('a','b',weight=0.6)\n",
    "G.add_edge('a','c',weight=0.2)\n",
    "G.add_edge('c','d',weight=0.1)\n",
    "G.add_edge('c','e',weight=0.7)\n",
    "G.add_edge('c','f',weight=0.9)\n",
    "G.add_edge('a','d',weight=0.3)\n",
    "elarge=[(u,v) for (u,v,d) in G.edges(data=True) if d['weight'] > 0.5]\n",
    "esmall=[(u,v) for (u,v,d) in G.edges(data=True) if d['weight'] <= 0.5]\n",
    "print(elarge, esmall)\n",
    "# nx.draw_networkx_nodes(G, pos, nodelist=['sdaf', 'sahfi ajoij'], node_size=1000, with_labels=True)\n",
    "# nx.draw_networkx_nodes(G, pos, nodelist=['an aoinion'], node_size=100, with_labels=True)\n",
    "# nx.draw_networkx_edges(G, pos, edgelist=[('sdaf','sahfi ajoij')], width=1)\n",
    "# nx.draw_networkx_edges(G, pos, edgelist=[('sahfi ajoij','an aoinion')], \n",
    "#                        width=1, alpha=0.5, edge_color='b', style='dashed')\n",
    "# nx.draw_networkx_labels(G, pos, dict( zip(node_list, node_list) ), font_size=8)\n",
    "# plt.savefig('output.png')"
   ]
  },
  {
   "cell_type": "code",
   "execution_count": 12,
   "metadata": {
    "collapsed": false
   },
   "outputs": [
    {
     "data": {
      "image/png": "[encoded data removed]",
      "text/plain": [
       "<Figure size 432x288 with 1 Axes>"
      ]
     },
     "metadata": {},
     "output_type": "display_data"
    }
   ],
   "source": [
    "import networkx as nx\n",
    "\n",
    "G=nx.Graph()\n",
    "\n",
    "G.add_edge('a','b',weight=0.6)\n",
    "G.add_edge('a','c',weight=0.2)\n",
    "G.add_edge('c','d',weight=0.1)\n",
    "G.add_edge('c','e',weight=0.7)\n",
    "G.add_edge('c','f',weight=0.9)\n",
    "G.add_edge('a','d',weight=0.3)\n",
    "\n",
    "elarge=[(u,v) for (u,v,d) in G.edges(data=True) if d['weight'] >0.5]\n",
    "esmall=[(u,v) for (u,v,d) in G.edges(data=True) if d['weight'] <=0.5]\n",
    "\n",
    "pos=nx.spring_layout(G) # positions for all nodes\n",
    "\n",
    "# nodes\n",
    "nx.draw_networkx_nodes(G,pos,node_size=700)\n",
    "\n",
    "# edges\n",
    "nx.draw_networkx_edges(G,pos,edgelist=elarge,\n",
    "                    width=6)\n",
    "nx.draw_networkx_edges(G,pos,edgelist=esmall,\n",
    "                    width=6,alpha=0.5,edge_color='b',style='dashed')\n",
    "\n",
    "# labels\n",
    "nx.draw_networkx_labels(G,pos,font_size=20,font_family='sans-serif')\n",
    "\n",
    "plt.axis('off')\n",
    "plt.savefig(\"weighted_graph.png\") # save as png\n",
    "plt.show() # display"
   ]
  },
  {
   "cell_type": "code",
   "execution_count": 360,
   "metadata": {
    "collapsed": true
   },
   "outputs": [],
   "source": [
    "a = dict([(1,1),(2,2),(3,3)])"
   ]
  },
  {
   "cell_type": "code",
   "execution_count": 364,
   "metadata": {
    "collapsed": false
   },
   "outputs": [
    {
     "data": {
      "text/plain": [
       "[1, 2, 3]"
      ]
     },
     "execution_count": 364,
     "metadata": {},
     "output_type": "execute_result"
    }
   ],
   "source": [
    "[i for i in a.values()]"
   ]
  },
  {
   "cell_type": "code",
   "execution_count": 7,
   "metadata": {
    "collapsed": false
   },
   "outputs": [
    {
     "ename": "ValueError",
     "evalue": "too many values to unpack",
     "output_type": "error",
     "traceback": [
      "\u001b[0;31m---------------------------------------------------------------------------\u001b[0m",
      "\u001b[0;31mValueError\u001b[0m                                Traceback (most recent call last)",
      "\u001b[0;32m<ipython-input-7-7723014da4d4>\u001b[0m in \u001b[0;36m<module>\u001b[0;34m()\u001b[0m\n\u001b[1;32m     25\u001b[0m \u001b[0mpos\u001b[0m\u001b[0;34m=\u001b[0m\u001b[0mnx\u001b[0m\u001b[0;34m.\u001b[0m\u001b[0mget_node_attributes\u001b[0m\u001b[0;34m(\u001b[0m\u001b[0mG\u001b[0m\u001b[0;34m,\u001b[0m \u001b[0;34m'pos'\u001b[0m\u001b[0;34m)\u001b[0m\u001b[0;34m\u001b[0m\u001b[0m\n\u001b[1;32m     26\u001b[0m \u001b[0mlabels\u001b[0m \u001b[0;34m=\u001b[0m \u001b[0mnx\u001b[0m\u001b[0;34m.\u001b[0m\u001b[0mget_edge_attributes\u001b[0m\u001b[0;34m(\u001b[0m\u001b[0mG\u001b[0m\u001b[0;34m,\u001b[0m\u001b[0;34m'weight'\u001b[0m\u001b[0;34m)\u001b[0m\u001b[0;34m\u001b[0m\u001b[0m\n\u001b[0;32m---> 27\u001b[0;31m \u001b[0mnx\u001b[0m\u001b[0;34m.\u001b[0m\u001b[0mdraw_networkx_edge_labels\u001b[0m\u001b[0;34m(\u001b[0m\u001b[0mG\u001b[0m\u001b[0;34m,\u001b[0m \u001b[0mpos\u001b[0m\u001b[0;34m,\u001b[0m \u001b[0medge_labels\u001b[0m\u001b[0;34m=\u001b[0m\u001b[0mlabels\u001b[0m\u001b[0;34m)\u001b[0m\u001b[0;34m\u001b[0m\u001b[0m\n\u001b[0m\u001b[1;32m     28\u001b[0m \u001b[0;31m# labels\u001b[0m\u001b[0;34m\u001b[0m\u001b[0;34m\u001b[0m\u001b[0m\n\u001b[1;32m     29\u001b[0m \u001b[0mnx\u001b[0m\u001b[0;34m.\u001b[0m\u001b[0mdraw_networkx_labels\u001b[0m\u001b[0;34m(\u001b[0m\u001b[0mG\u001b[0m\u001b[0;34m,\u001b[0m\u001b[0mpos\u001b[0m\u001b[0;34m,\u001b[0m\u001b[0mfont_size\u001b[0m\u001b[0;34m=\u001b[0m\u001b[0;36m20\u001b[0m\u001b[0;34m,\u001b[0m\u001b[0mfont_family\u001b[0m\u001b[0;34m=\u001b[0m\u001b[0;34m'sans-serif'\u001b[0m\u001b[0;34m)\u001b[0m\u001b[0;34m\u001b[0m\u001b[0m\n",
      "\u001b[0;32m/Users/brook/anaconda2/lib/python2.7/site-packages/networkx/drawing/nx_pylab.pyc\u001b[0m in \u001b[0;36mdraw_networkx_edge_labels\u001b[0;34m(G, pos, edge_labels, label_pos, font_size, font_color, font_family, font_weight, alpha, bbox, ax, rotate, **kwds)\u001b[0m\n\u001b[1;32m    834\u001b[0m         \u001b[0mlabels\u001b[0m \u001b[0;34m=\u001b[0m \u001b[0medge_labels\u001b[0m\u001b[0;34m\u001b[0m\u001b[0m\n\u001b[1;32m    835\u001b[0m     \u001b[0mtext_items\u001b[0m \u001b[0;34m=\u001b[0m \u001b[0;34m{\u001b[0m\u001b[0;34m}\u001b[0m\u001b[0;34m\u001b[0m\u001b[0m\n\u001b[0;32m--> 836\u001b[0;31m     \u001b[0;32mfor\u001b[0m \u001b[0;34m(\u001b[0m\u001b[0mn1\u001b[0m\u001b[0;34m,\u001b[0m \u001b[0mn2\u001b[0m\u001b[0;34m)\u001b[0m\u001b[0;34m,\u001b[0m \u001b[0mlabel\u001b[0m \u001b[0;32min\u001b[0m \u001b[0mlabels\u001b[0m\u001b[0;34m.\u001b[0m\u001b[0mitems\u001b[0m\u001b[0;34m(\u001b[0m\u001b[0;34m)\u001b[0m\u001b[0;34m:\u001b[0m\u001b[0;34m\u001b[0m\u001b[0m\n\u001b[0m\u001b[1;32m    837\u001b[0m         \u001b[0;34m(\u001b[0m\u001b[0mx1\u001b[0m\u001b[0;34m,\u001b[0m \u001b[0my1\u001b[0m\u001b[0;34m)\u001b[0m \u001b[0;34m=\u001b[0m \u001b[0mpos\u001b[0m\u001b[0;34m[\u001b[0m\u001b[0mn1\u001b[0m\u001b[0;34m]\u001b[0m\u001b[0;34m\u001b[0m\u001b[0m\n\u001b[1;32m    838\u001b[0m         \u001b[0;34m(\u001b[0m\u001b[0mx2\u001b[0m\u001b[0;34m,\u001b[0m \u001b[0my2\u001b[0m\u001b[0;34m)\u001b[0m \u001b[0;34m=\u001b[0m \u001b[0mpos\u001b[0m\u001b[0;34m[\u001b[0m\u001b[0mn2\u001b[0m\u001b[0;34m]\u001b[0m\u001b[0;34m\u001b[0m\u001b[0m\n",
      "\u001b[0;31mValueError\u001b[0m: too many values to unpack"
     ]
    }
   ],
   "source": [
    "import networkx as nx\n",
    "from networkx.drawing.nx_agraph import to_agraph \n",
    "\n",
    "G = nx.MultiDiGraph()\n",
    "\n",
    "G.add_edge('a','a',weight=0.6)\n",
    "G.add_edge('a','c',weight=0.2)\n",
    "G.add_edge('a','e',weight=0.7)\n",
    "G.add_edge('a','f',weight=0.9)\n",
    "G.add_edge('a','d',weight=0.3)\n",
    "\n",
    "elarge=[(u,v) for (u,v,d) in G.edges(data=True) if d['weight'] >0.5]\n",
    "esmall=[(u,v) for (u,v,d) in G.edges(data=True) if d['weight'] <=0.5]\n",
    "\n",
    "pos = nx.spring_layout(G) # positions for all nodes\n",
    "\n",
    "# nodes\n",
    "nx.draw_networkx_nodes(G,pos,node_size=700)\n",
    "\n",
    "# edges\n",
    "nx.draw_networkx_edges(G,pos,edgelist=elarge,\n",
    "                    width=2)\n",
    "nx.draw_networkx_edges(G,pos,edgelist=esmall,\n",
    "                    width=2,alpha=0.5,edge_color='b',style='dashed')\n",
    "# labels\n",
    "nx.draw_networkx_labels(G,pos,font_size=20,font_family='sans-serif')\n",
    "plt.show()"
   ]
  },
  {
   "cell_type": "code",
   "execution_count": 20,
   "metadata": {
    "collapsed": false
   },
   "outputs": [
    {
     "ename": "AttributeError",
     "evalue": "module 'networkx' has no attribute 'write_dot'",
     "output_type": "error",
     "traceback": [
      "\u001b[0;31m---------------------------------------------------------------------------\u001b[0m",
      "\u001b[0;31mAttributeError\u001b[0m                            Traceback (most recent call last)",
      "\u001b[0;32m<ipython-input-20-b88f49920755>\u001b[0m in \u001b[0;36m<module>\u001b[0;34m()\u001b[0m\n\u001b[1;32m      4\u001b[0m \u001b[0mG\u001b[0m \u001b[0;34m=\u001b[0m \u001b[0mnx\u001b[0m\u001b[0;34m.\u001b[0m\u001b[0mDiGraph\u001b[0m\u001b[0;34m(\u001b[0m\u001b[0;34m)\u001b[0m\u001b[0;34m\u001b[0m\u001b[0m\n\u001b[1;32m      5\u001b[0m \u001b[0mG\u001b[0m\u001b[0;34m.\u001b[0m\u001b[0madd_edges_from\u001b[0m\u001b[0;34m(\u001b[0m\u001b[0;34m[\u001b[0m\u001b[0;34m(\u001b[0m\u001b[0;36m0\u001b[0m\u001b[0;34m,\u001b[0m\u001b[0;36m1\u001b[0m\u001b[0;34m)\u001b[0m\u001b[0;34m,\u001b[0m \u001b[0;34m(\u001b[0m\u001b[0;36m0\u001b[0m\u001b[0;34m,\u001b[0m\u001b[0;36m2\u001b[0m\u001b[0;34m)\u001b[0m\u001b[0;34m,\u001b[0m \u001b[0;34m(\u001b[0m\u001b[0;36m1\u001b[0m\u001b[0;34m,\u001b[0m\u001b[0;36m1\u001b[0m\u001b[0;34m)\u001b[0m\u001b[0;34m,\u001b[0m \u001b[0;34m(\u001b[0m\u001b[0;36m1\u001b[0m\u001b[0;34m,\u001b[0m\u001b[0;36m2\u001b[0m\u001b[0;34m)\u001b[0m\u001b[0;34m]\u001b[0m\u001b[0;34m)\u001b[0m\u001b[0;34m\u001b[0m\u001b[0m\n\u001b[0;32m----> 6\u001b[0;31m \u001b[0mnx\u001b[0m\u001b[0;34m.\u001b[0m\u001b[0mwrite_dot\u001b[0m\u001b[0;34m(\u001b[0m\u001b[0mG\u001b[0m\u001b[0;34m,\u001b[0m\u001b[0;34m'graph.dot'\u001b[0m\u001b[0;34m)\u001b[0m\u001b[0;34m\u001b[0m\u001b[0m\n\u001b[0m",
      "\u001b[0;31mAttributeError\u001b[0m: module 'networkx' has no attribute 'write_dot'"
     ]
    }
   ],
   "source": [
    "import networkx as nx\n",
    "import matplotlib.pyplot as plt\n",
    "\n",
    "G = nx.DiGraph()\n",
    "G.add_edges_from([(0,1), (0,2), (1,1), (1,2)])\n",
    "nx.write_dot(G,'graph.dot')"
   ]
  },
  {
   "cell_type": "code",
   "execution_count": 1,
   "metadata": {
    "collapsed": false
   },
   "outputs": [],
   "source": [
    "import networkx as nx\n",
    "from networkx.drawing.nx_agraph import to_agraph \n",
    "G=nx.MultiDiGraph([('jumei', 'chongtian'), ('jumei','fenqile'), ('jumei','jumei')]\n",
    ")\n",
    "G.graph['edge'] = {'arrowsize': '0.6', 'splines': 'curved'}\n",
    "G.graph['graph'] = {'scale': '3'}\n",
    "A = to_agraph(G)\n",
    "A.layout('dot')                                                         \n",
    "A.draw('multi.png')"
   ]
  },
  {
   "cell_type": "code",
   "execution_count": 183,
   "metadata": {
    "collapsed": false
   },
   "outputs": [],
   "source": [
    "import networkx as nx\n",
    "import matplotlib.pyplot as plt\n",
    "\n",
    "G=nx.DiGraph()\n",
    "node_list = [0, 1, 2]\n",
    "G.add_nodes_from(node_list)\n",
    "pos = nx.spring_layout(G)\n",
    "G.add_edge(0,1,weight=0.42082)\n",
    "G.add_edge(0,2,weight=0.380616)\n",
    "G.add_edge(1,2,weight=0.097705)\n",
    "nx.draw(G,pos)\n",
    "\n",
    "node_weights = [0.181207, 0.912326, 2.389324]\n",
    "# nlarge=[node_list[i] for i in range(len(node_list)) if node_weights[i] >= 1]\n",
    "# nsmall=[node_list[i] for i in range(len(node_list)) if node_weights[i] < 1]\n",
    "for i in range(len(node_list)):\n",
    "    nx.draw_networkx_nodes(G, pos, nodelist=[node_list[i]], node_size=node_weights[i] * 1000, \n",
    "                           node_color='r' if node_list[i] > 0 else 'b')\n",
    "eweight = 0.196798\n",
    "labels = nx.get_edge_attributes(G,'weight')\n",
    "nx.draw_networkx_edge_labels(G,pos,edge_labels=labels)\n",
    "name_list = ['jumei: %.6f' % eweight , 'chongtian: %.6f' % 0.901957, 'fenqile: %.6f' % 0.996100]\n",
    "nx.draw_networkx_labels(G, pos, dict( zip(node_list, name_list) ), font_size=10)\n",
    "import os\n",
    "if os.path.exists('output.png'):\n",
    "    os.remove('output.png')\n",
    "plt.savefig('output.png')\n",
    "plt.close()"
   ]
  },
  {
   "cell_type": "code",
   "execution_count": 184,
   "metadata": {
    "collapsed": false
   },
   "outputs": [],
   "source": [
    "import networkx as nx\n",
    "import matplotlib.pyplot as plt\n",
    "\n",
    "G=nx.DiGraph()\n",
    "node_list = [0, 1, 2]\n",
    "G.add_nodes_from(node_list)\n",
    "pos = nx.spring_layout(G)\n",
    "G.add_edge(0,2,weight=1.0)\n",
    "G.add_edge(1,2,weight=1.0)\n",
    "nx.draw(G,pos)\n",
    "\n",
    "node_weights = [0.149999, 0.149999, 12.158094]\n",
    "# nlarge=[node_list[i] for i in range(len(node_list)) if node_weights[i] >= 1]\n",
    "# nsmall=[node_list[i] for i in range(len(node_list)) if node_weights[i] < 1]\n",
    "for i in range(len(node_list)):\n",
    "    nx.draw_networkx_nodes(G, pos, nodelist=[node_list[i]], node_size=node_weights[i] * 1000, \n",
    "                           node_color='r' if node_list[i] > 0 else 'b')\n",
    "\n",
    "labels = nx.get_edge_attributes(G,'weight')\n",
    "nx.draw_networkx_edge_labels(G,pos,edge_labels=labels)\n",
    "name_list = ['jumei: %d' % 0 , 'chongtian: %d' % 0, 'fenqile: %.6f' % 0.963630]\n",
    "nx.draw_networkx_labels(G, pos, dict( zip(node_list, name_list) ), font_size=10)\n",
    "import os\n",
    "if os.path.exists('output1.png'):\n",
    "    os.remove('output1.png')\n",
    "plt.savefig('output1.png')\n",
    "plt.close()"
   ]
  },
  {
   "cell_type": "code",
   "execution_count": 188,
   "metadata": {
    "collapsed": false
   },
   "outputs": [],
   "source": [
    "import networkx as nx\n",
    "import matplotlib.pyplot as plt\n",
    "\n",
    "G=nx.DiGraph()\n",
    "node_list = [0, 1, 2]\n",
    "G.add_nodes_from(node_list)\n",
    "pos = nx.spring_layout(G)\n",
    "G.add_edge(0,1,weight=0.421565)\n",
    "G.add_edge(0,2,weight=0.381289)\n",
    "G.add_edge(1,2,weight=0.098043)\n",
    "nx.draw(G,pos)\n",
    "\n",
    "node_weights = [0.180196, 0.919625, 2.065577]\n",
    "# nlarge=[node_list[i] for i in range(len(node_list)) if node_weights[i] >= 1]\n",
    "# nsmall=[node_list[i] for i in range(len(node_list)) if node_weights[i] < 1]\n",
    "for i in range(len(node_list)):\n",
    "    nx.draw_networkx_nodes(G, pos, nodelist=[node_list[i]], node_size=node_weights[i] * 1000, \n",
    "                           node_color='r' if node_list[i] > 0 else 'b')\n",
    "\n",
    "labels = nx.get_edge_attributes(G,'weight')\n",
    "nx.draw_networkx_edge_labels(G,pos,edge_labels=labels)\n",
    "name_list = ['jumei: %.6f' % 0.197146 , 'chongtian: %.6f' % 0.901957, 'fenqile: %.6f' % 0.996100]\n",
    "nx.draw_networkx_labels(G, pos, dict( zip(node_list, name_list) ), font_size=10)\n",
    "import os\n",
    "if os.path.exists('output2.png'):\n",
    "    os.remove('output2.png')\n",
    "plt.savefig('output2.png')\n",
    "plt.close()"
   ]
  },
  {
   "cell_type": "code",
   "execution_count": 78,
   "metadata": {
    "collapsed": false
   },
   "outputs": [
    {
     "data": {
      "text/plain": [
       "True"
      ]
     },
     "execution_count": 78,
     "metadata": {},
     "output_type": "execute_result"
    }
   ],
   "source": [
    "import sys\n",
    "a = sys.maxint\n",
    "b = sys.maxint - 1\n",
    "a - b > 0.1"
   ]
  },
  {
   "cell_type": "code",
   "execution_count": null,
   "metadata": {
    "collapsed": true
   },
   "outputs": [],
   "source": []
  }
 ],
 "metadata": {
  "kernelspec": {
   "display_name": "Python 2",
   "language": "python",
   "name": "python2"
  },
  "language_info": {
   "codemirror_mode": {
    "name": "ipython",
    "version": 2
   },
   "file_extension": ".py",
   "mimetype": "text/x-python",
   "name": "python",
   "nbconvert_exporter": "python",
   "pygments_lexer": "ipython2",
   "version": "2.7.13"
  }
 },
 "nbformat": 4,
 "nbformat_minor": 2
}
