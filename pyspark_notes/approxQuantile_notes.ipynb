{
 "cells": [
  {
   "cell_type": "code",
   "execution_count": 1,
   "metadata": {
    "collapsed": false
   },
   "outputs": [],
   "source": [
    "from pyspark.sql import SparkSession\n",
    "\n",
    "spark = SparkSession.builder.appName(\"Python Spark SQL Hive integration example\").getOrCreate()"
   ]
  },
  {
   "cell_type": "code",
   "execution_count": 2,
   "metadata": {
    "collapsed": true
   },
   "outputs": [],
   "source": [
    "sampleData = [(\"bob\",\"Developer\",125000),(\"mark\",\"Developer\",108000),(\"carl\",\"Tester\",70000),(\"peter\",\"Developer\",185000),(\"jon\",\"Tester\",65000),(\"roman\",\"Tester\",82000),(\"simon\",\"Developer\",98000),(\"eric\",\"Developer\",144000),(\"carlos\",\"Tester\",75000),(\"henry\",\"Developer\",110000)]\n",
    "\n",
    "df = spark.createDataFrame(sampleData, schema=[\"Name\",\"Role\",\"Salary\"])"
   ]
  },
  {
   "cell_type": "code",
   "execution_count": 3,
   "metadata": {
    "collapsed": false
   },
   "outputs": [
    {
     "name": "stdout",
     "output_type": "stream",
     "text": [
      "+------+---------+------+\n",
      "|  Name|     Role|Salary|\n",
      "+------+---------+------+\n",
      "|   bob|Developer|125000|\n",
      "|  mark|Developer|108000|\n",
      "|  carl|   Tester| 70000|\n",
      "| peter|Developer|185000|\n",
      "|   jon|   Tester| 65000|\n",
      "| roman|   Tester| 82000|\n",
      "| simon|Developer| 98000|\n",
      "|  eric|Developer|144000|\n",
      "|carlos|   Tester| 75000|\n",
      "| henry|Developer|110000|\n",
      "+------+---------+------+\n",
      "\n"
     ]
    }
   ],
   "source": [
    "df.show()"
   ]
  },
  {
   "cell_type": "code",
   "execution_count": 5,
   "metadata": {
    "collapsed": false
   },
   "outputs": [
    {
     "data": {
      "text/plain": [
       "[98000.0]"
      ]
     },
     "execution_count": 5,
     "metadata": {},
     "output_type": "execute_result"
    }
   ],
   "source": [
    "df.approxQuantile(\"Salary\", [0.5], 0.01)"
   ]
  },
  {
   "cell_type": "code",
   "execution_count": 14,
   "metadata": {
    "collapsed": false
   },
   "outputs": [
    {
     "data": {
      "text/plain": [
       "10"
      ]
     },
     "execution_count": 14,
     "metadata": {},
     "output_type": "execute_result"
    }
   ],
   "source": [
    "df.select(df.columns).filter(\"Salary is not null\").select(\"Salary\").count()"
   ]
  },
  {
   "cell_type": "code",
   "execution_count": 17,
   "metadata": {
    "collapsed": false
   },
   "outputs": [
    {
     "data": {
      "text/plain": [
       "10"
      ]
     },
     "execution_count": 17,
     "metadata": {},
     "output_type": "execute_result"
    }
   ],
   "source": [
    "df.select(\"Salary\").filter(\"Salary is not null\").select(\"Salary\").count()"
   ]
  },
  {
   "cell_type": "code",
   "execution_count": null,
   "metadata": {
    "collapsed": true
   },
   "outputs": [],
   "source": []
  }
 ],
 "metadata": {
  "kernelspec": {
   "display_name": "Python 2",
   "language": "python",
   "name": "python2"
  },
  "language_info": {
   "codemirror_mode": {
    "name": "ipython",
    "version": 2
   },
   "file_extension": ".py",
   "mimetype": "text/x-python",
   "name": "python",
   "nbconvert_exporter": "python",
   "pygments_lexer": "ipython2",
   "version": "2.7.13"
  }
 },
 "nbformat": 4,
 "nbformat_minor": 2
}
