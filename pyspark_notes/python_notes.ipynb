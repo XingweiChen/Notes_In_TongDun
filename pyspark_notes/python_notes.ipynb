{
 "cells": [
  {
   "cell_type": "markdown",
   "metadata": {},
   "source": [
    "# 时间操作"
   ]
  },
  {
   "cell_type": "code",
   "execution_count": 16,
   "metadata": {},
   "outputs": [
    {
     "name": "stdout",
     "output_type": "stream",
     "text": [
      "20150429 16:46:08\n"
     ]
    }
   ],
   "source": [
    "import time\n",
    "print( time.strftime('%Y%m%d %H:%M:%S', time.localtime(1430297168)) )"
   ]
  },
  {
   "cell_type": "code",
   "execution_count": 17,
   "metadata": {},
   "outputs": [
    {
     "name": "stdout",
     "output_type": "stream",
     "text": [
      "1544702570.51154\n"
     ]
    }
   ],
   "source": [
    "print(time.time())"
   ]
  },
  {
   "cell_type": "code",
   "execution_count": 18,
   "metadata": {},
   "outputs": [
    {
     "data": {
      "text/plain": [
       "'20181213 20:02:50'"
      ]
     },
     "execution_count": 18,
     "metadata": {},
     "output_type": "execute_result"
    }
   ],
   "source": [
    "time.strftime('%Y%m%d %H:%M:%S', time.localtime(time.time()))"
   ]
  },
  {
   "cell_type": "code",
   "execution_count": 19,
   "metadata": {},
   "outputs": [
    {
     "name": "stdout",
     "output_type": "stream",
     "text": [
      "1544702571129\n"
     ]
    }
   ],
   "source": [
    "#　获取毫秒\n",
    "print(int(time.time() * 1000))"
   ]
  },
  {
   "cell_type": "code",
   "execution_count": 30,
   "metadata": {},
   "outputs": [
    {
     "name": "stdout",
     "output_type": "stream",
     "text": [
      "20181214095231 2018-12-14 00:00:00 1544716800\n"
     ]
    }
   ],
   "source": [
    "# 时间戳转毫秒\n",
    "import datetime\n",
    "version_number = int(time.strftime('%Y%m%d%H%M%S', time.localtime(time.time())))\n",
    "t = version_number //1000000\n",
    "nanotime_of_day = datetime.datetime(t // 10000, t // 100 % 100, t % 100)\n",
    "sql_time = int(time.mktime(nanotime_of_day.timetuple()))\n",
    "print(version_number, nanotime_of_day, sql_time)"
   ]
  },
  {
   "cell_type": "code",
   "execution_count": 9,
   "metadata": {},
   "outputs": [
    {
     "name": "stdout",
     "output_type": "stream",
     "text": [
      "2018-11-28 00:00:00 1543334400\n"
     ]
    }
   ],
   "source": []
  },
  {
   "cell_type": "markdown",
   "metadata": {},
   "source": [
    "# 获取list的count"
   ]
  },
  {
   "cell_type": "code",
   "execution_count": 36,
   "metadata": {},
   "outputs": [],
   "source": [
    "from collections import Counter\n",
    "import numpy as np"
   ]
  },
  {
   "cell_type": "code",
   "execution_count": 45,
   "metadata": {},
   "outputs": [
    {
     "data": {
      "text/plain": [
       "Counter({'a': 1, 'b': 2})"
      ]
     },
     "execution_count": 45,
     "metadata": {},
     "output_type": "execute_result"
    }
   ],
   "source": [
    "a = np.array([[1, 'a'], [2, 'b'], [3, 'b']])\n",
    "A = Counter(a[:,1])\n",
    "A"
   ]
  },
  {
   "cell_type": "markdown",
   "metadata": {},
   "source": [
    "# 获取字典中value n个最大value对应的Key"
   ]
  },
  {
   "cell_type": "code",
   "execution_count": 47,
   "metadata": {},
   "outputs": [
    {
     "name": "stdout",
     "output_type": "stream",
     "text": [
      "Counter({'b': 2, 'a': 1})\n",
      "['b']\n"
     ]
    }
   ],
   "source": [
    "import heapq\n",
    "print(A)\n",
    "print( heapq.nlargest(1, A, key=A.get) )"
   ]
  },
  {
   "cell_type": "code",
   "execution_count": 68,
   "metadata": {},
   "outputs": [
    {
     "data": {
      "text/plain": [
       "[[3, 'b'], [2, 'b']]"
      ]
     },
     "execution_count": 68,
     "metadata": {},
     "output_type": "execute_result"
    }
   ],
   "source": [
    "# get max 2 from list\n",
    "a = [1, 'a'], [2, 'b'], [3, 'b']\n",
    "heapq.nlargest(2, a, key=lambda x: x[0])"
   ]
  },
  {
   "cell_type": "code",
   "execution_count": 69,
   "metadata": {},
   "outputs": [
    {
     "data": {
      "text/plain": [
       "[array(['3', 'b'], dtype='<U21'), array(['2', 'b'], dtype='<U21')]"
      ]
     },
     "execution_count": 69,
     "metadata": {},
     "output_type": "execute_result"
    }
   ],
   "source": [
    "a = np.array([[1, 'a'], [2, 'b'], [3, 'b']])\n",
    "heapq.nlargest(2, a, key=lambda x: x[0])"
   ]
  },
  {
   "cell_type": "code",
   "execution_count": 18,
   "metadata": {},
   "outputs": [
    {
     "name": "stdout",
     "output_type": "stream",
     "text": [
      "2018-11-28 00:00:00 1543334400\n",
      "2018-11-28\n",
      "2018-11-27\n",
      "2018-11-26\n",
      "2018-11-25\n",
      "2018-11-24\n",
      "2018-11-23\n",
      "2018-11-22\n"
     ]
    }
   ],
   "source": [
    "import datetime, time\n",
    "nanotime_of_day = datetime.datetime(2018, 11, 28)\n",
    "sql_time = int(time.mktime(nanotime_of_day.timetuple()))\n",
    "print(nanotime_of_day, sql_time)\n",
    "for i in range(7):\n",
    "    print(time.strftime('%Y-%m-%d', time.localtime(sql_time - 86400 * i)))"
   ]
  },
  {
   "cell_type": "markdown",
   "metadata": {},
   "source": [
    "# pickle操作"
   ]
  },
  {
   "cell_type": "code",
   "execution_count": 8,
   "metadata": {},
   "outputs": [
    {
     "name": "stdout",
     "output_type": "stream",
     "text": [
      "['1'] ['1']\n"
     ]
    }
   ],
   "source": [
    "import pickle \n",
    "a = ['1']\n",
    "pickle.dump(a, open('temp', 'wb'))\n",
    "b = pickle.load(open('temp', 'rb'))\n",
    "print(a, b)"
   ]
  },
  {
   "cell_type": "code",
   "execution_count": 17,
   "metadata": {},
   "outputs": [],
   "source": [
    "a = ['1', '2']\n",
    "a.remove('1')"
   ]
  },
  {
   "cell_type": "code",
   "execution_count": null,
   "metadata": {},
   "outputs": [],
   "source": []
  }
 ],
 "metadata": {
  "kernelspec": {
   "display_name": "Python 3",
   "language": "python",
   "name": "python3"
  },
  "language_info": {
   "codemirror_mode": {
    "name": "ipython",
    "version": 3
   },
   "file_extension": ".py",
   "mimetype": "text/x-python",
   "name": "python",
   "nbconvert_exporter": "python",
   "pygments_lexer": "ipython3",
   "version": "3.6.5"
  }
 },
 "nbformat": 4,
 "nbformat_minor": 2
}
